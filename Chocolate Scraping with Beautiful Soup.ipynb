{
 "cells": [
  {
   "cell_type": "code",
   "execution_count": 2,
   "id": "advanced-exploration",
   "metadata": {},
   "outputs": [],
   "source": [
    "from bs4 import BeautifulSoup\n",
    "import requests\n",
    "import pandas as pd\n",
    "import matplotlib.pyplot as plt\n",
    "import numpy as np"
   ]
  },
  {
   "cell_type": "code",
   "execution_count": 3,
   "id": "surrounded-chest",
   "metadata": {},
   "outputs": [
    {
     "data": {
      "image/png": "[encoded data removed]",
      "text/plain": [
       "<Figure size 432x288 with 1 Axes>"
      ]
     },
     "metadata": {
      "needs_background": "light"
     },
     "output_type": "display_data"
    }
   ],
   "source": [
    "url ='https://content.codecademy.com/courses/beautifulsoup/cacao/index.html'\n",
    "\n",
    "html = requests.get(url)\n",
    "soup = BeautifulSoup(html.content,'html.parser')\n",
    "\n",
    "#抓取Ratings\n",
    "ratings_table = soup.find_all('td', attrs = {'class':'Rating'})\n",
    "\n",
    "ratings = []\n",
    "\n",
    "for rating in ratings_table[1:]:\n",
    "  rate = float(rating.get_text())\n",
    "  ratings.append(rate)\n",
    "\n",
    "plt.hist(ratings)\n",
    "plt.show()"
   ]
  },
  {
   "cell_type": "code",
   "execution_count": 4,
   "id": "variable-saturday",
   "metadata": {},
   "outputs": [
    {
     "name": "stdout",
     "output_type": "stream",
     "text": [
      "Company\n",
      "Tobago Estate (Pralus)                  4.000000\n",
      "Heirloom Cacao Preservation (Zokoko)    3.875000\n",
      "Ocelot                                  3.875000\n",
      "Amedei                                  3.846154\n",
      "Matale                                  3.812500\n",
      "Patric                                  3.791667\n",
      "Idilio (Felchlin)                       3.775000\n",
      "Acalli                                  3.750000\n",
      "Chocola'te                              3.750000\n",
      "Christopher Morel (Felchlin)            3.750000\n",
      "Name: Ratings, dtype: float64\n"
     ]
    }
   ],
   "source": [
    "company_table = soup.find_all('td',attrs = {'class':'Company'})\n",
    "\n",
    "company = []\n",
    "\n",
    "#抓取company\n",
    "for com in company_table[1:]:\n",
    "  company_name = com.get_text()\n",
    "  company.append(company_name)\n",
    "\n",
    "#建立欄位為company、ratings的表格\n",
    "cocoa_table = {'Company': company, 'Ratings': ratings}\n",
    "cocoa_table_df = pd.DataFrame.from_dict(cocoa_table)\n",
    "\n",
    "\n",
    "#整理成平均rating前10高的公司\n",
    "mean_value = cocoa_table_df.groupby('Company').Ratings.mean()\n",
    "ten_best = mean_value.nlargest(10)\n",
    "print(ten_best)"
   ]
  },
  {
   "cell_type": "markdown",
   "id": "unavailable-brush",
   "metadata": {},
   "source": [
    "想要比較Rating較高是否和可可含量有關"
   ]
  },
  {
   "cell_type": "code",
   "execution_count": 5,
   "id": "interracial-witch",
   "metadata": {},
   "outputs": [
    {
     "name": "stdout",
     "output_type": "stream",
     "text": [
      "[-0.01246131  4.07938814]\n"
     ]
    },
    {
     "data": {
      "image/png": "[encoded data removed]",
      "text/plain": [
       "<Figure size 432x288 with 1 Axes>"
      ]
     },
     "metadata": {
      "needs_background": "light"
     },
     "output_type": "display_data"
    }
   ],
   "source": [
    "#抓取cocoa百分比的資料\n",
    "cocoa = []\n",
    "cocoa_table = soup.find_all('td',attrs={'class': 'CocoaPercent'})\n",
    "for co in cocoa_table[1:]:\n",
    "  cocoapercent = co.get_text().strip('%')\n",
    "  cocoa.append(float(cocoapercent))\n",
    "\n",
    "cocoa_table_df['CocoaPercentage'] = cocoa\n",
    "#print(cocoa_table_df)\n",
    "\n",
    "# 繪制散布圖\n",
    "plt.scatter(cocoa_table_df.CocoaPercentage, cocoa_table_df.Ratings)\n",
    "\n",
    "#凝合出一次函數的係數\n",
    "z = np.polyfit(cocoa_table_df.CocoaPercentage, cocoa_table_df.Ratings, 1)\n",
    "print(z)\n",
    "\n",
    "#繪出以z為參數的一次函數圖形\n",
    "line_function = np.poly1d(z)\n",
    "plt.plot(cocoa_table_df.CocoaPercentage, line_function(cocoa_table_df.CocoaPercentage), \"r--\")\n",
    "\n",
    "plt.show()\n"
   ]
  },
  {
   "cell_type": "code",
   "execution_count": null,
   "id": "champion-enterprise",
   "metadata": {},
   "outputs": [],
   "source": []
  },
  {
   "cell_type": "code",
   "execution_count": null,
   "id": "plastic-convention",
   "metadata": {},
   "outputs": [],
   "source": []
  }
 ],
 "metadata": {
  "kernelspec": {
   "display_name": "Python 3",
   "language": "python",
   "name": "python3"
  },
  "language_info": {
   "codemirror_mode": {
    "name": "ipython",
    "version": 3
   },
   "file_extension": ".py",
   "mimetype": "text/x-python",
   "name": "python",
   "nbconvert_exporter": "python",
   "pygments_lexer": "ipython3",
   "version": "3.8.5"
  }
 },
 "nbformat": 4,
 "nbformat_minor": 5
}
