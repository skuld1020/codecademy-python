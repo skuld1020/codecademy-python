{
 "cells": [
  {
   "cell_type": "markdown",
   "metadata": {},
   "source": [
    "# U.S. Medical Insurance Costs"
   ]
  },
  {
   "cell_type": "markdown",
   "metadata": {},
   "source": [
    "### Step1\n",
    "確認資料檔案(insurance.csv)內容，欄位有：<br>\n",
    "age(int)、sex(female/male)、bmi(float)、children(int)、<br>\n",
    "smoker(yes/no)、region(4個區域)、charges(float)<br>\n",
    "`沒有遺失值/空值`"
   ]
  },
  {
   "cell_type": "markdown",
   "metadata": {},
   "source": [
    "### Step2\n",
    "根據資料欄位想找出以下資料：\n",
    "* 統計資料筆數、男女生各為幾筆？\n",
    "* 區域有西南、西北、東南、東北，各有幾筆？\n",
    "* 平均年齡為？\n",
    "* 平均保險費用\n",
    "* 有孩子的平均保費與沒有孩子的平均保費為？\n",
    "* 有抽菸的保費平均和不抽菸的保費平均"
   ]
  },
  {
   "cell_type": "code",
   "execution_count": 42,
   "metadata": {},
   "outputs": [],
   "source": [
    "import csv\n",
    "\n",
    "with open(\"E:\\py\\codecademy\\codecademy-python\\python-portfolio-project-starter-files\\insurance.csv\", newline='') as fh:\n",
    "    reader = csv.DictReader(fh)\n",
    "    insurance_costs = []\n",
    "    for row in reader:\n",
    "        insurance_costs.append(row)    \n"
   ]
  },
  {
   "cell_type": "code",
   "execution_count": 43,
   "metadata": {},
   "outputs": [
    {
     "name": "stdout",
     "output_type": "stream",
     "text": [
      "資料一共有1338筆，其中男性有676筆，女性有662筆。\n"
     ]
    }
   ],
   "source": [
    "#統計資料筆數、男女性各為幾筆\n",
    "\n",
    "def total_num(lst):\n",
    "    num_for_male = 0\n",
    "    num_for_female = 0\n",
    "\n",
    "    for item in lst:\n",
    "        if item[\"sex\"] == \"male\":\n",
    "            num_for_male += 1\n",
    "        else:\n",
    "            num_for_female +=1\n",
    "    num_for_total = num_for_male + num_for_female\n",
    "    return num_for_total,num_for_male,num_for_female\n",
    "\n",
    "total_num, male_num, female_num = total_num(insurance_costs)\n",
    "\n",
    "print(\"資料一共有{t}筆，其中男性有{m}筆，女性有{f}筆。\".format(t = total_num, m = male_num, f = female_num))"
   ]
  },
  {
   "cell_type": "code",
   "execution_count": 44,
   "metadata": {},
   "outputs": [
    {
     "name": "stdout",
     "output_type": "stream",
     "text": [
      "西南有325筆，西北有325筆，東南有364筆，東北有324筆。\n"
     ]
    }
   ],
   "source": [
    "#區域有西南、西北、東南、東北，各有幾筆？\n",
    "\n",
    "def region(lst):\n",
    "    northwest = 0\n",
    "    northeast = 0\n",
    "    southwest = 0\n",
    "    southeast = 0\n",
    "    \n",
    "    for item in lst:\n",
    "        if item[\"region\"] == \"northwest\":\n",
    "            northwest += 1\n",
    "        elif item[\"region\"] == \"northeast\":\n",
    "            northeast += 1\n",
    "        elif item[\"region\"] == \"southwest\":\n",
    "            southwest += 1\n",
    "        else:\n",
    "            southeast += 1\n",
    "    return northwest, northeast, southwest, southeast\n",
    "\n",
    "northwest, northeast, southwest, southeast = region(insurance_costs)\n",
    "print(\"西南有{sw}筆，西北有{nw}筆，東南有{se}筆，東北有{ne}筆。\".format(sw = southwest, nw = northwest, se = southeast, ne = northeast))\n"
   ]
  },
  {
   "cell_type": "code",
   "execution_count": 45,
   "metadata": {},
   "outputs": [
    {
     "name": "stdout",
     "output_type": "stream",
     "text": [
      "這份資料的平均年齡為39.21歲。\n"
     ]
    }
   ],
   "source": [
    "#平均年齡\n",
    "def average_age(lst):\n",
    "    total_age = 0\n",
    "    total_num = len(lst)\n",
    "    for item in lst:\n",
    "        total_age += int(item[\"age\"])\n",
    "    average_age = total_age / total_num\n",
    "    return average_age\n",
    "\n",
    "average_age = average_age(insurance_costs)\n",
    "print(\"這份資料的平均年齡為{}歲。\".format(round(average_age, 2)))"
   ]
  },
  {
   "cell_type": "code",
   "execution_count": 46,
   "metadata": {},
   "outputs": [
    {
     "name": "stdout",
     "output_type": "stream",
     "text": [
      "這份資料的平均保費為13270.42元。\n"
     ]
    }
   ],
   "source": [
    "#平均保險費用\n",
    "def average_costs(lst):\n",
    "    total_num = len(lst)\n",
    "    total = 0\n",
    "    for item in lst:\n",
    "        total += float(item[\"charges\"])\n",
    "    average = total / total_num\n",
    "    return average\n",
    "\n",
    "average_cost = average_costs(insurance_costs)\n",
    "print(\"這份資料的平均保費為{}元。\".format(round(average_cost, 2)))"
   ]
  },
  {
   "cell_type": "code",
   "execution_count": 47,
   "metadata": {},
   "outputs": [
    {
     "name": "stdout",
     "output_type": "stream",
     "text": [
      "有孩子的平均保費為13949.94元，沒有孩子的平均保費為12365.98元。\n"
     ]
    }
   ],
   "source": [
    "#有孩子的平均保費與沒有孩子的平均保費為\n",
    "def average_cost_for_num_of_children(lst):\n",
    "    total_cost_have_children = 0\n",
    "    total_cost_no_children = 0\n",
    "    total_num_have_children = 0\n",
    "    total_num_no_children = 0\n",
    "    \n",
    "    for item in lst:\n",
    "        if item[\"children\"] == \"0\":\n",
    "            total_cost_no_children += float(item[\"charges\"])\n",
    "            total_num_no_children += 1\n",
    "        else:\n",
    "            total_cost_have_children += float(item[\"charges\"])\n",
    "            total_num_have_children += 1\n",
    "    aver_cost_have_children = total_cost_have_children / total_num_have_children\n",
    "    aver_cost_no_children = total_cost_no_children / total_num_no_children\n",
    "    return aver_cost_have_children, aver_cost_no_children\n",
    "\n",
    "aver_cost_have, aver_cost_no = average_cost_for_num_of_children(insurance_costs)\n",
    "print(\"有孩子的平均保費為{have}元，沒有孩子的平均保費為{no}元。\".format(have = round(aver_cost_have, 2), no = round(aver_cost_no, 2)))\n"
   ]
  },
  {
   "cell_type": "code",
   "execution_count": 48,
   "metadata": {},
   "outputs": [
    {
     "name": "stdout",
     "output_type": "stream",
     "text": [
      "抽菸者的平均保費為32050.23元，非抽菸者平均保費為8434.27元。\n"
     ]
    }
   ],
   "source": [
    "#有抽菸的保費平均和不抽菸的保費平均\n",
    "def aver_smoker_cost(lst):\n",
    "    have_smoker_total_cost = 0\n",
    "    have_smoker_num = 0\n",
    "    no_smoker_total_cost = 0\n",
    "    no_smoker_num = 0\n",
    "    \n",
    "    for item in lst:\n",
    "        if item[\"smoker\"] == \"yes\":\n",
    "            have_smoker_total_cost += float(item[\"charges\"])\n",
    "            have_smoker_num +=1\n",
    "        else:\n",
    "            no_smoker_total_cost += float(item[\"charges\"])\n",
    "            no_smoker_num += 1\n",
    "    aver_have = have_smoker_total_cost / have_smoker_num\n",
    "    aver_no = no_smoker_total_cost / no_smoker_num\n",
    "    return aver_have, aver_no\n",
    "\n",
    "smoker_aver_cost , nosmoker_aver_cost = aver_smoker_cost(insurance_costs)\n",
    "print(\"抽菸者的平均保費為{have}元，非抽菸者平均保費為{no}元。\".format(have = round(smoker_aver_cost, 2), no = round(nosmoker_aver_cost, 2)))"
   ]
  },
  {
   "cell_type": "markdown",
   "metadata": {},
   "source": [
    "由以上可知，抽菸者的保費明顯比平均保費來得高，<br>\n",
    "有無孩子對於保費似乎沒什麼影響。<br>\n",
    "<br>\n",
    "想知道男女或是地區因素是否會影響保險費用，故會再做：<br>\n",
    "* 男女生的平均保費\n",
    "* 各區域的平均保費\n"
   ]
  },
  {
   "cell_type": "code",
   "execution_count": 50,
   "metadata": {},
   "outputs": [
    {
     "name": "stdout",
     "output_type": "stream",
     "text": [
      "男性保費平均為13956.75元，女性保費平均為12569.58元。\n"
     ]
    }
   ],
   "source": [
    "#男女生的平均保費\n",
    "\n",
    "male_cost = 0\n",
    "female_cost = 0\n",
    "for item in insurance_costs:\n",
    "    if item[\"sex\"] == \"male\":\n",
    "        male_cost += float(item[\"charges\"])\n",
    "    else:\n",
    "        female_cost += float(item[\"charges\"])\n",
    "aver_cost_male = male_cost / male_num\n",
    "aver_cost_female = female_cost / female_num\n",
    "\n",
    "print(\"男性保費平均為{m}元，女性保費平均為{f}元。\".format(m = round(aver_cost_male, 2), f = round(aver_cost_female, 2)))"
   ]
  },
  {
   "cell_type": "code",
   "execution_count": 51,
   "metadata": {},
   "outputs": [
    {
     "name": "stdout",
     "output_type": "stream",
     "text": [
      "西南平均12346.94元，西北平均12417.58元，東南平均14735.41元，東北平均13406.38元。\n"
     ]
    }
   ],
   "source": [
    "#各地區的平均保費差異\n",
    "northwest_total = 0\n",
    "northeast_total = 0\n",
    "southwest_total = 0\n",
    "southeast_total = 0\n",
    "\n",
    "for item in insurance_costs:\n",
    "    if item[\"region\"] == \"northwest\":\n",
    "        northwest_total += float(item[\"charges\"])\n",
    "    elif item[\"region\"] == \"northeast\":\n",
    "        northeast_total += float(item[\"charges\"])\n",
    "    elif item[\"region\"] == \"southwest\":\n",
    "        southwest_total += float(item[\"charges\"])\n",
    "    else:\n",
    "        southeast_total += float(item[\"charges\"])\n",
    "\n",
    "aver_northwest = round(northwest_total / northwest, 2)\n",
    "aver_northeast = round(northeast_total / northeast, 2)\n",
    "aver_southwest = round(southwest_total / southwest, 2)\n",
    "aver_southeast = round(southeast_total / southeast, 2)\n",
    "\n",
    "print(\"西南平均{sw}元，西北平均{nw}元，東南平均{se}元，東北平均{ne}元。\".format(sw = aver_southwest, nw = aver_northwest, se = aver_southeast, ne = aver_northeast))\n",
    "    "
   ]
  },
  {
   "cell_type": "code",
   "execution_count": 52,
   "metadata": {},
   "outputs": [
    {
     "name": "stdout",
     "output_type": "stream",
     "text": [
      "吸菸人數：西南58人，西北58人，東南91人，東北67人。\n"
     ]
    }
   ],
   "source": [
    "#各地區的吸菸人數\n",
    "northwest_smoker = 0\n",
    "northeast_smoker = 0\n",
    "southwest_smoker = 0\n",
    "southeast_smoker = 0\n",
    "\n",
    "for item in insurance_costs:\n",
    "    if item[\"smoker\"] == \"yes\":\n",
    "        if item[\"region\"] == \"northwest\":\n",
    "            northwest_smoker += 1\n",
    "        elif item[\"region\"] == \"northeast\":\n",
    "            northeast_smoker += 1\n",
    "        elif item[\"region\"] == \"southwest\":\n",
    "            southwest_smoker += 1\n",
    "        else:\n",
    "            southeast_smoker += 1\n",
    "print(\"吸菸人數：西南{sw}人，西北{nw}人，東南{se}人，東北{ne}人。\".format(sw = southwest_smoker, nw = northwest_smoker, se = southeast_smoker, ne = northeast_smoker))\n"
   ]
  },
  {
   "cell_type": "markdown",
   "metadata": {},
   "source": [
    "男女生的平均保費和全部平均保費差異不大，<br>\n",
    "各地區可看見東南的保費平均較高，但東南地區的吸菸人數也明顯較多。\n"
   ]
  },
  {
   "cell_type": "markdown",
   "metadata": {},
   "source": [
    "### 結論\n",
    "`影響保險費用主要因素應為吸菸與否，吸菸者的保費明顯較高，非吸菸者的保費較低。`"
   ]
  }
 ],
 "metadata": {
  "kernelspec": {
   "display_name": "Python 3",
   "language": "python",
   "name": "python3"
  },
  "language_info": {
   "codemirror_mode": {
    "name": "ipython",
    "version": 3
   },
   "file_extension": ".py",
   "mimetype": "text/x-python",
   "name": "python",
   "nbconvert_exporter": "python",
   "pygments_lexer": "ipython3",
   "version": "3.8.5"
  }
 },
 "nbformat": 4,
 "nbformat_minor": 4
}
