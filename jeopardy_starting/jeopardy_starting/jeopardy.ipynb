{
 "cells": [
  {
   "cell_type": "code",
   "execution_count": 1,
   "id": "smart-clinton",
   "metadata": {},
   "outputs": [
    {
     "name": "stderr",
     "output_type": "stream",
     "text": [
      "<ipython-input-1-b65a7b2ffc76>:4: FutureWarning: Passing a negative integer is deprecated in version 1.0 and will not be supported in future version. Instead, use None to not limit the column width.\n",
      "  pd.set_option('display.max_colwidth', -1)\n"
     ]
    },
    {
     "name": "stdout",
     "output_type": "stream",
     "text": [
      "<class 'pandas.core.frame.DataFrame'>\n",
      "RangeIndex: 216930 entries, 0 to 216929\n",
      "Data columns (total 7 columns):\n",
      " #   Column       Non-Null Count   Dtype \n",
      "---  ------       --------------   ----- \n",
      " 0   Show Number  216930 non-null  int64 \n",
      " 1    Air Date    216930 non-null  object\n",
      " 2    Round       216930 non-null  object\n",
      " 3    Category    216930 non-null  object\n",
      " 4    Value       216930 non-null  object\n",
      " 5    Question    216930 non-null  object\n",
      " 6    Answer      216928 non-null  object\n",
      "dtypes: int64(1), object(6)\n",
      "memory usage: 11.6+ MB\n",
      "None\n",
      "        Show Number    Air Date             Round  \\\n",
      "0       4680         2004-12-31  Jeopardy!          \n",
      "1       4680         2004-12-31  Jeopardy!          \n",
      "2       4680         2004-12-31  Jeopardy!          \n",
      "3       4680         2004-12-31  Jeopardy!          \n",
      "4       4680         2004-12-31  Jeopardy!          \n",
      "...      ...                ...        ...          \n",
      "216920  4999         2006-05-11  Double Jeopardy!   \n",
      "216921  4999         2006-05-11  Double Jeopardy!   \n",
      "216922  4999         2006-05-11  Double Jeopardy!   \n",
      "216923  4999         2006-05-11  Double Jeopardy!   \n",
      "216924  4999         2006-05-11  Double Jeopardy!   \n",
      "\n",
      "                               Category  Value  \\\n",
      "0       HISTORY                          $200    \n",
      "1       ESPN's TOP 10 ALL-TIME ATHLETES  $200    \n",
      "2       EVERYBODY TALKS ABOUT IT...      $200    \n",
      "3       THE COMPANY LINE                 $200    \n",
      "4       EPITAPHS & TRIBUTES              $200    \n",
      "...                     ...               ...    \n",
      "216920  \"T\" BIRDS                        $1600   \n",
      "216921  AUTHORS IN THEIR YOUTH           $1600   \n",
      "216922  QUOTATIONS                       $1600   \n",
      "216923  WORLD CAPITALS                   $2000   \n",
      "216924  OFF-BROADWAY                     $2000   \n",
      "\n",
      "                                                                                                                                                                               Question  \\\n",
      "0       For the last 8 years of his life, Galileo was under house arrest for espousing this man's theory                                                                                  \n",
      "1       No. 2: 1912 Olympian; football star at Carlisle Indian School; 6 MLB seasons with the Reds, Giants & Braves                                                                       \n",
      "2       The city of Yuma in this state has a record average of 4,055 hours of sunshine each year                                                                                          \n",
      "3       In 1963, live on \"The Art Linkletter Show\", this company served its billionth burger                                                                                              \n",
      "4       Signer of the Dec. of Indep., framer of the Constitution of Mass., second President of the United States                                                                          \n",
      "...                                                                                                          ...                                                                          \n",
      "216920  Nightingales & robins belong to this family of melodious songbirds                                                                                                                \n",
      "216921  Her hotsy-totsy diaries trace back to one she began as an 11-year-old aboard ship in 1914                                                                                         \n",
      "216922  A motto of hers was \"in politics, if you want anything said, ask a man; if you want anything done, ask a woman\"                                                                   \n",
      "216923  It's on the Suriname River                                                                                                                                                        \n",
      "216924  In 2006 the cast of this long-running hit embarked on <a href=\"http://www.j-archive.com/media/2006-05-11_DJ_26.wmv\">an exuberant & noisy campaign</a> to clean up New York City   \n",
      "\n",
      "                     Answer  \n",
      "0       Copernicus           \n",
      "1       Jim Thorpe           \n",
      "2       Arizona              \n",
      "3       McDonald's           \n",
      "4       John Adams           \n",
      "...            ...           \n",
      "216920  thrushes             \n",
      "216921  Anaïs Nin            \n",
      "216922  (Margaret) Thatcher  \n",
      "216923  Paramaribo           \n",
      "216924  Stomp                \n",
      "\n",
      "[216925 rows x 7 columns]\n"
     ]
    }
   ],
   "source": [
    "import pandas as pd\n",
    "import re\n",
    "from datetime import datetime\n",
    "pd.set_option('display.max_colwidth', -1)\n",
    "\n",
    "df = pd.read_csv('E:\\py\\codecademy\\codecademy-python\\jeopardy_starting\\jeopardy_starting\\jeopardy.csv')\n",
    "print(df.info())\n",
    "\n",
    "#title in columns has space,strip space\n",
    "df.columns = df.columns.str.strip()\n",
    "#print(df.columns.tolist())\n",
    "print(df.head(-5))"
   ]
  },
  {
   "cell_type": "code",
   "execution_count": 2,
   "id": "relevant-position",
   "metadata": {},
   "outputs": [
    {
     "name": "stdout",
     "output_type": "stream",
     "text": [
      "0         200.0 \n",
      "1         200.0 \n",
      "2         200.0 \n",
      "3         200.0 \n",
      "4         200.0 \n",
      "          ...   \n",
      "216925    2000.0\n",
      "216926    2000.0\n",
      "216927    2000.0\n",
      "216928    2000.0\n",
      "216929    0.0   \n",
      "Name: Value, Length: 216930, dtype: float64\n"
     ]
    }
   ],
   "source": [
    "#strip non-number and into a type int\n",
    "#Read the csv we have some None in value,so we replace it to 0\n",
    "df.Value = df.Value.str.replace('[\\D]','', regex = True)\n",
    "df.Value = pd.to_numeric(df.Value)\n",
    "df.Value = df.Value.fillna(value = 0)\n",
    "print(df.Value)"
   ]
  },
  {
   "cell_type": "code",
   "execution_count": 3,
   "id": "typical-consideration",
   "metadata": {},
   "outputs": [
    {
     "name": "stdout",
     "output_type": "stream",
     "text": [
      "0        2004-12-31\n",
      "1        2004-12-31\n",
      "2        2004-12-31\n",
      "3        2004-12-31\n",
      "4        2004-12-31\n",
      "            ...    \n",
      "216925   2006-05-11\n",
      "216926   2006-05-11\n",
      "216927   2006-05-11\n",
      "216928   2006-05-11\n",
      "216929   2006-05-11\n",
      "Name: Air Date, Length: 216930, dtype: datetime64[ns]\n"
     ]
    }
   ],
   "source": [
    "#Air Date into a date type\n",
    "df['Air Date'] = df['Air Date'].apply(lambda x : datetime.strptime(x, '%Y-%m-%d'))\n",
    "print(df['Air Date'])"
   ]
  },
  {
   "cell_type": "code",
   "execution_count": 4,
   "id": "similar-beatles",
   "metadata": {},
   "outputs": [
    {
     "name": "stdout",
     "output_type": "stream",
     "text": [
      "False    216930\n",
      "dtype: int64\n"
     ]
    }
   ],
   "source": [
    "#check duplicated\n",
    "print(df.duplicated().value_counts())"
   ]
  },
  {
   "cell_type": "code",
   "execution_count": 5,
   "id": "oriental-classification",
   "metadata": {},
   "outputs": [
    {
     "name": "stdout",
     "output_type": "stream",
     "text": [
      "        Show Number   Air Date             Round               Category  \\\n",
      "4953    3003        1997-09-24  Double Jeopardy!  \"PH\"UN WORDS            \n",
      "6337    3517        1999-12-14  Double Jeopardy!  Y1K                     \n",
      "9191    3907        2001-09-04  Double Jeopardy!  WON THE BATTLE          \n",
      "11710   2903        1997-03-26  Double Jeopardy!  BRITISH MONARCHS        \n",
      "13454   4726        2005-03-07  Jeopardy!         A NUMBER FROM 1 TO 10   \n",
      "...      ...               ...        ...                           ...   \n",
      "208295  4621        2004-10-11  Jeopardy!         THE VIKINGS             \n",
      "208742  4863        2005-11-02  Double Jeopardy!  BEFORE & AFTER          \n",
      "213870  5856        2010-02-15  Double Jeopardy!  URANUS                  \n",
      "216021  1881        1992-11-09  Double Jeopardy!  HISTORIC NAMES          \n",
      "216789  5070        2006-09-29  Double Jeopardy!  ANCIENT HISTORY         \n",
      "\n",
      "         Value  \\\n",
      "4953    200.0    \n",
      "6337    800.0    \n",
      "9191    800.0    \n",
      "11710   600.0    \n",
      "13454   1000.0   \n",
      "...        ...   \n",
      "208295  600.0    \n",
      "208742  3000.0   \n",
      "213870  1600.0   \n",
      "216021  1000.0   \n",
      "216789  1200.0   \n",
      "\n",
      "                                                                                                      Question  \\\n",
      "4953    Both England's King George V & FDR put their stamp of approval on this \"King of Hobbies\"                 \n",
      "6337    In retaliation for Viking raids, this \"Unready\" king of England attacks Norse areas of the Isle of Man   \n",
      "9191    This king of England beat the odds to trounce the French in the 1415 Battle of Agincourt                 \n",
      "11710   This Scotsman, the first Stuart king of England, was called \"The Wisest Fool in Christendom\"             \n",
      "13454   It's the number that followed the last king of England named William                                     \n",
      "...                                                                      ...                                     \n",
      "208295  In 1066 this great-great grandson of Rollo made what some call the last Viking invasion of England       \n",
      "208742  Dutch-born king who ruled England jointly with Mary II & is a tasty New Zealand fish                     \n",
      "213870  In 1781 William Herschel discovered Uranus & initially named it after this king of England               \n",
      "216021  His nickname was \"Bertie\", but he used this name & number when he became king of England in 1901         \n",
      "216789  This kingdom of England grew from 2 settlements, one founded around 495 by Cerdic & his son Cynric       \n",
      "\n",
      "                              Answer  \n",
      "4953    Philately (stamp collecting)  \n",
      "6337    Ethelred                      \n",
      "9191    Henry V                       \n",
      "11710   James I                       \n",
      "13454   4                             \n",
      "...    ..                             \n",
      "208295  William the Conqueror         \n",
      "208742  William of Orange roughy      \n",
      "213870  George III                    \n",
      "216021  Edward VII                    \n",
      "216789  Wessex                        \n",
      "\n",
      "[152 rows x 7 columns]\n"
     ]
    }
   ],
   "source": [
    "#a function for search words of the list on the colunms\n",
    "def search_words(database,colunms,lst):\n",
    "    index_lst = []\n",
    "    for i in range(len(database)):\n",
    "        count = 0\n",
    "        for j in range(len(lst)):\n",
    "            if lst[j] in database[colunms][i].lower():\n",
    "                count +=1\n",
    "        if count == len(lst):\n",
    "            index_lst.append(i)\n",
    "    return pd.DataFrame([database.loc[num] for num in index_lst], columns = database.columns.tolist())\n",
    "\n",
    "#a new table for 'king' and 'england' all in Question\n",
    "king_england_in_question = search_words(df,'Question',['king', 'england'])\n",
    "print(king_england_in_question)"
   ]
  },
  {
   "cell_type": "code",
   "execution_count": 6,
   "id": "regular-terrace",
   "metadata": {},
   "outputs": [
    {
     "name": "stdout",
     "output_type": "stream",
     "text": [
      "        Show Number   Air Date             Round               Category  \\\n",
      "4953    3003        1997-09-24  Double Jeopardy!  \"PH\"UN WORDS            \n",
      "6337    3517        1999-12-14  Double Jeopardy!  Y1K                     \n",
      "9191    3907        2001-09-04  Double Jeopardy!  WON THE BATTLE          \n",
      "11710   2903        1997-03-26  Double Jeopardy!  BRITISH MONARCHS        \n",
      "13454   4726        2005-03-07  Jeopardy!         A NUMBER FROM 1 TO 10   \n",
      "...      ...               ...        ...                           ...   \n",
      "208295  4621        2004-10-11  Jeopardy!         THE VIKINGS             \n",
      "208742  4863        2005-11-02  Double Jeopardy!  BEFORE & AFTER          \n",
      "213870  5856        2010-02-15  Double Jeopardy!  URANUS                  \n",
      "216021  1881        1992-11-09  Double Jeopardy!  HISTORIC NAMES          \n",
      "216789  5070        2006-09-29  Double Jeopardy!  ANCIENT HISTORY         \n",
      "\n",
      "         Value  \\\n",
      "4953    200.0    \n",
      "6337    800.0    \n",
      "9191    800.0    \n",
      "11710   600.0    \n",
      "13454   1000.0   \n",
      "...        ...   \n",
      "208295  600.0    \n",
      "208742  3000.0   \n",
      "213870  1600.0   \n",
      "216021  1000.0   \n",
      "216789  1200.0   \n",
      "\n",
      "                                                                                                      Question  \\\n",
      "4953    Both England's King George V & FDR put their stamp of approval on this \"King of Hobbies\"                 \n",
      "6337    In retaliation for Viking raids, this \"Unready\" king of England attacks Norse areas of the Isle of Man   \n",
      "9191    This king of England beat the odds to trounce the French in the 1415 Battle of Agincourt                 \n",
      "11710   This Scotsman, the first Stuart king of England, was called \"The Wisest Fool in Christendom\"             \n",
      "13454   It's the number that followed the last king of England named William                                     \n",
      "...                                                                      ...                                     \n",
      "208295  In 1066 this great-great grandson of Rollo made what some call the last Viking invasion of England       \n",
      "208742  Dutch-born king who ruled England jointly with Mary II & is a tasty New Zealand fish                     \n",
      "213870  In 1781 William Herschel discovered Uranus & initially named it after this king of England               \n",
      "216021  His nickname was \"Bertie\", but he used this name & number when he became king of England in 1901         \n",
      "216789  This kingdom of England grew from 2 settlements, one founded around 495 by Cerdic & his son Cynric       \n",
      "\n",
      "                              Answer  \n",
      "4953    Philately (stamp collecting)  \n",
      "6337    Ethelred                      \n",
      "9191    Henry V                       \n",
      "11710   James I                       \n",
      "13454   4                             \n",
      "...    ..                             \n",
      "208295  William the Conqueror         \n",
      "208742  William of Orange roughy      \n",
      "213870  George III                    \n",
      "216021  Edward VII                    \n",
      "216789  Wessex                        \n",
      "\n",
      "[152 rows x 7 columns]\n"
     ]
    }
   ],
   "source": [
    "#another way to define the function\n",
    "def search_words2(database, columns, lst):\n",
    "    filter = lambda x :all(word.lower() in x.lower() for word in lst)\n",
    "    return database.loc[database[columns].apply(filter)]\n",
    "\n",
    "king_england_in_question2 = search_words2(df,'Question',['King', 'England'])\n",
    "print(king_england_in_question2)"
   ]
  },
  {
   "cell_type": "code",
   "execution_count": 13,
   "id": "coordinated-powder",
   "metadata": {},
   "outputs": [
    {
     "name": "stderr",
     "output_type": "stream",
     "text": [
      "<ipython-input-13-ec710d8b01bb>:6: DeprecationWarning: Flags not at the start of the expression '\\\\b(?i)england\\\\b'\n",
      "  word = re.compile(r'\\b(?i)'+word+r'\\b')\n"
     ]
    },
    {
     "name": "stdout",
     "output_type": "stream",
     "text": [
      "        Show Number   Air Date             Round  \\\n",
      "4953    3003        1997-09-24  Double Jeopardy!   \n",
      "6337    3517        1999-12-14  Double Jeopardy!   \n",
      "9191    3907        2001-09-04  Double Jeopardy!   \n",
      "11710   2903        1997-03-26  Double Jeopardy!   \n",
      "13454   4726        2005-03-07  Jeopardy!          \n",
      "...      ...               ...        ...          \n",
      "201168  3515        1999-12-10  Jeopardy!          \n",
      "204778  5899        2010-04-15  Double Jeopardy!   \n",
      "208742  4863        2005-11-02  Double Jeopardy!   \n",
      "213870  5856        2010-02-15  Double Jeopardy!   \n",
      "216021  1881        1992-11-09  Double Jeopardy!   \n",
      "\n",
      "                             Category   Value  \\\n",
      "4953    \"PH\"UN WORDS                   200.0    \n",
      "6337    Y1K                            800.0    \n",
      "9191    WON THE BATTLE                 800.0    \n",
      "11710   BRITISH MONARCHS               600.0    \n",
      "13454   A NUMBER FROM 1 TO 10          1000.0   \n",
      "...                       ...             ...   \n",
      "201168  BEFORE & AFTER                 500.0    \n",
      "204778  THE 13 COLONIES' NAME ORIGINS  1200.0   \n",
      "208742  BEFORE & AFTER                 3000.0   \n",
      "213870  URANUS                         1600.0   \n",
      "216021  HISTORIC NAMES                 1000.0   \n",
      "\n",
      "                                                                                                      Question  \\\n",
      "4953    Both England's King George V & FDR put their stamp of approval on this \"King of Hobbies\"                 \n",
      "6337    In retaliation for Viking raids, this \"Unready\" king of England attacks Norse areas of the Isle of Man   \n",
      "9191    This king of England beat the odds to trounce the French in the 1415 Battle of Agincourt                 \n",
      "11710   This Scotsman, the first Stuart king of England, was called \"The Wisest Fool in Christendom\"             \n",
      "13454   It's the number that followed the last king of England named William                                     \n",
      "...                                                                      ...                                     \n",
      "201168  Popular Saint-Exupery character waiting around to become king of England                                 \n",
      "204778  This southern colony was named for a king of England, the II of that name                                \n",
      "208742  Dutch-born king who ruled England jointly with Mary II & is a tasty New Zealand fish                     \n",
      "213870  In 1781 William Herschel discovered Uranus & initially named it after this king of England               \n",
      "216021  His nickname was \"Bertie\", but he used this name & number when he became king of England in 1901         \n",
      "\n",
      "                              Answer  \n",
      "4953    Philately (stamp collecting)  \n",
      "6337    Ethelred                      \n",
      "9191    Henry V                       \n",
      "11710   James I                       \n",
      "13454   4                             \n",
      "...    ..                             \n",
      "201168  The Little Prince of Wales    \n",
      "204778  Georgia                       \n",
      "208742  William of Orange roughy      \n",
      "213870  George III                    \n",
      "216021  Edward VII                    \n",
      "\n",
      "[118 rows x 7 columns]\n"
     ]
    }
   ],
   "source": [
    "#Choose the words king and england no matter its capital or little,not inclusive amking or england's\n",
    "def regex_search(database,columns,lst):\n",
    "    def check_words(x,lst):\n",
    "        word_in_x = True\n",
    "        for word in lst:            \n",
    "            word = re.compile(r'\\b(?i)'+word+r'\\b')\n",
    "            if re.search(word, x) == None:\n",
    "                word_in_x = False\n",
    "        return word_in_x               \n",
    "            \n",
    "    filter = lambda x: check_words(x,lst)\n",
    "    return database.loc[database[columns].apply(filter)]\n",
    "\n",
    "search_table = regex_search(df,'Question',['King', 'england'])\n",
    "print(search_table)"
   ]
  },
  {
   "cell_type": "code",
   "execution_count": 16,
   "id": "indirect-credits",
   "metadata": {},
   "outputs": [
    {
     "name": "stdout",
     "output_type": "stream",
     "text": [
      "739.9884755451067\n",
      "771.8833850722094\n"
     ]
    }
   ],
   "source": [
    "#calculate the mean of the value\n",
    "print(df.Value.mean())\n",
    "\n",
    "#calculate the mean of the value which have king in Question\n",
    "king_in_question = search_words2(df,'Question',['King'])\n",
    "print(king_in_question.Value.mean())"
   ]
  },
  {
   "cell_type": "code",
   "execution_count": 17,
   "id": "unlike-symbol",
   "metadata": {},
   "outputs": [
    {
     "name": "stdout",
     "output_type": "stream",
     "text": [
      "Henry VIII        55\n",
      "Solomon           35\n",
      "Richard III       33\n",
      "Louis XIV         31\n",
      "David             30\n",
      "                  ..\n",
      "Dick's ticks      1 \n",
      "zirconium         1 \n",
      "casting           1 \n",
      "\\\"Camelot\\\"       1 \n",
      "making a quilt    1 \n",
      "Name: Answer, Length: 5268, dtype: int64\n"
     ]
    }
   ],
   "source": [
    "#count the answer of the king in question\n",
    "print(king_in_question.Answer.value_counts())"
   ]
  },
  {
   "cell_type": "code",
   "execution_count": 18,
   "id": "passive-fraction",
   "metadata": {},
   "outputs": [
    {
     "name": "stdout",
     "output_type": "stream",
     "text": [
      "The question of computer in 90s are: 98 ,and in 2000s are: 268\n",
      "It is more than  170\n"
     ]
    }
   ],
   "source": [
    "#How many questions from the 1990s use the word \"Computer\" compared to questions from the 2000s\n",
    "computer_table = search_words2(df,'Question',['Computer'])\n",
    "computer_table_90s = computer_table[(computer_table['Air Date'] >= datetime(1990,1,1)) \\\n",
    "                                    & (computer_table['Air Date'] <= datetime(1999,12,31))]\n",
    "computer_table_00s = computer_table[(computer_table['Air Date'] >= datetime(2000,1,1)) \\\n",
    "                                    & (computer_table['Air Date'] <= datetime(2009,12,31))]\n",
    "print('The question of computer in 90s are:',len(computer_table_90s),',and in 2000s are:',len(computer_table_00s))\n",
    "print('It is more than ',len(computer_table_00s)-len(computer_table_90s))"
   ]
  }
 ],
 "metadata": {
  "kernelspec": {
   "display_name": "Python 3",
   "language": "python",
   "name": "python3"
  },
  "language_info": {
   "codemirror_mode": {
    "name": "ipython",
    "version": 3
   },
   "file_extension": ".py",
   "mimetype": "text/x-python",
   "name": "python",
   "nbconvert_exporter": "python",
   "pygments_lexer": "ipython3",
   "version": "3.8.5"
  }
 },
 "nbformat": 4,
 "nbformat_minor": 5
}
